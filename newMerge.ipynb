{
  "nbformat": 4,
  "nbformat_minor": 0,
  "metadata": {
    "colab": {
      "provenance": [],
      "authorship_tag": "ABX9TyMVTbu6IEjZ79IfLLwClrig",
      "include_colab_link": true
    },
    "kernelspec": {
      "name": "python3",
      "display_name": "Python 3"
    },
    "language_info": {
      "name": "python"
    }
  },
  "cells": [
    {
      "cell_type": "markdown",
      "metadata": {
        "id": "view-in-github",
        "colab_type": "text"
      },
      "source": [
        "<a href=\"https://colab.research.google.com/github/Soumyadantre/Internship_project-IIT-BHU-/blob/main/newMerge.ipynb\" target=\"_parent\"><img src=\"https://colab.research.google.com/assets/colab-badge.svg\" alt=\"Open In Colab\"/></a>"
      ]
    },
    {
      "cell_type": "code",
      "execution_count": null,
      "metadata": {
        "id": "CMKBZ7gnkCw6",
        "colab": {
          "base_uri": "https://localhost:8080/"
        },
        "outputId": "8cb60a8b-8e77-4204-cb16-30cb18590c42"
      },
      "outputs": [
        {
          "output_type": "stream",
          "name": "stdout",
          "text": [
            "139688\n"
          ]
        },
        {
          "output_type": "stream",
          "name": "stderr",
          "text": [
            "<ipython-input-19-822a485d8090>:6: DtypeWarning: Columns (14,26,29,30,31,32,33) have mixed types. Specify dtype option on import or set low_memory=False.\n",
            "  dat1 = pd.read_csv(\"/content/Block 1 & Block 2 - Identification of sample household and particulars of field opeation.csv\")\n"
          ]
        },
        {
          "output_type": "execute_result",
          "data": {
            "text/plain": [
              "139688"
            ]
          },
          "metadata": {},
          "execution_count": 19
        }
      ],
      "source": [
        "import pandas as pd\n",
        "\n",
        "\n",
        "### Block 1 and 2 ###\n",
        "\n",
        "dat1 = pd.read_csv(\"/content/Block 1 & Block 2 - Identification of sample household and particulars of field opeation.csv\")\n",
        "\n",
        "### checking the file ##\n",
        "dat1.head()\n",
        "dat1.describe()\n",
        "print(dat1.shape[0])\n",
        "dat1.rename(columns={\"Unnamed: 0\": \"HHID\"}, inplace=True)  ### rename the HHID column\n",
        "len(dat1[\"HHID\"].unique())"
      ]
    },
    {
      "cell_type": "code",
      "source": [
        "dat2 = pd.read_csv(\"/content/Block 3 - Household Characteristics - Copy.csv\")\n",
        "### checking the file ##\n",
        "dat2.head()\n",
        "dat2.describe()\n",
        "print(dat2.shape[0])\n",
        "dat2.rename(columns={\"Unnamed: 0\": \"HHID\"}, inplace=True)\n",
        "len(dat2[\"HHID\"].unique())"
      ],
      "metadata": {
        "id": "eXgzl_jjkW_5",
        "colab": {
          "base_uri": "https://localhost:8080/"
        },
        "outputId": "e4a960c8-a46d-4f40-d548-e3f0ec1e0649"
      },
      "execution_count": null,
      "outputs": [
        {
          "output_type": "stream",
          "name": "stdout",
          "text": [
            "139688\n"
          ]
        },
        {
          "output_type": "stream",
          "name": "stderr",
          "text": [
            "<ipython-input-20-1149680ca04a>:1: DtypeWarning: Columns (4) have mixed types. Specify dtype option on import or set low_memory=False.\n",
            "  dat2 = pd.read_csv(\"/content/Block 3 - Household Characteristics - Copy.csv\")\n"
          ]
        },
        {
          "output_type": "execute_result",
          "data": {
            "text/plain": [
              "139688"
            ]
          },
          "metadata": {},
          "execution_count": 20
        }
      ]
    },
    {
      "cell_type": "code",
      "source": [
        "## Block 4 ##\n",
        "dat3 = pd.read_csv(\"/content/Block 4 -  Copy.csv\")\n",
        "### checking the file ##\n",
        "\n",
        "dat3.describe()\n",
        "print(dat3.shape[0])\n",
        "dat3.rename(columns={\"Unnamed: 0\": \"HHID\"}, inplace=True)\n",
        "len(dat3[\"HHID\"].unique())"
      ],
      "metadata": {
        "id": "LdLaZ6N_kavc",
        "colab": {
          "base_uri": "https://localhost:8080/"
        },
        "outputId": "1b6bde69-c21b-493b-f03e-4cfd3dd98178"
      },
      "execution_count": null,
      "outputs": [
        {
          "output_type": "stream",
          "name": "stdout",
          "text": [
            "645852\n"
          ]
        },
        {
          "output_type": "stream",
          "name": "stderr",
          "text": [
            "<ipython-input-21-7529f597faa2>:2: DtypeWarning: Columns (6) have mixed types. Specify dtype option on import or set low_memory=False.\n",
            "  dat3 = pd.read_csv(\"/content/Block 4 -  Copy.csv\")\n"
          ]
        },
        {
          "output_type": "execute_result",
          "data": {
            "text/plain": [
              "139688"
            ]
          },
          "metadata": {},
          "execution_count": 21
        }
      ]
    },
    {
      "cell_type": "code",
      "source": [
        "dat3[\"INDID\"] = dat3[\"HHID\"] * 100 + dat3[\"b4q1\"]\n",
        "# Print the modified DataFrame\n",
        "print(dat3.shape[0])"
      ],
      "metadata": {
        "id": "2-aXuPRlkfFj",
        "colab": {
          "base_uri": "https://localhost:8080/"
        },
        "outputId": "2fc759d7-8df7-4101-f89f-b9464a831584"
      },
      "execution_count": null,
      "outputs": [
        {
          "output_type": "stream",
          "name": "stdout",
          "text": [
            "645852\n"
          ]
        }
      ]
    },
    {
      "cell_type": "code",
      "source": [
        "## Block 5.1 ##\n",
        "dat4 = pd.read_csv(\"/content/Block 5.1 - Copy.csv\")\n",
        "### checking the file ##\n",
        "dat4.head()\n",
        "dat4.describe()\n",
        "print(dat4.shape[0])\n",
        "dat4.rename(columns={\"Unnamed: 0\": \"HHID\"}, inplace=True)\n",
        "len(dat4[\"HHID\"].unique())"
      ],
      "metadata": {
        "id": "VQLhQWuRkjZj",
        "colab": {
          "base_uri": "https://localhost:8080/"
        },
        "outputId": "40dde2e5-9630-460d-86f1-48507476c9ad"
      },
      "execution_count": null,
      "outputs": [
        {
          "output_type": "stream",
          "name": "stdout",
          "text": [
            "219870\n"
          ]
        },
        {
          "output_type": "execute_result",
          "data": {
            "text/plain": [
              "62544"
            ]
          },
          "metadata": {},
          "execution_count": 25
        }
      ]
    },
    {
      "cell_type": "code",
      "source": [
        "# Delete rows with value 99 in a specific column\n",
        "column_name = 'b51q1'\n",
        "dat4 = dat4[dat4[column_name] != 99]"
      ],
      "metadata": {
        "id": "Rx1aaKt1m1cQ"
      },
      "execution_count": null,
      "outputs": []
    },
    {
      "cell_type": "code",
      "source": [
        "### create unique id for people using their HHID ###\n",
        "\n",
        "dat4[\"INDID\"] = dat4[\"HHID\"] * 100 + dat4[\"b51q3\"]  #(b51q3 gives the individual serial no. per household)\n",
        "\n",
        "### Merge the files based on individual ID and Household id ###\n",
        "\n",
        "## merging overnight trips (block 5.1) with demographic information\n",
        "dat5 = pd.merge(dat4, dat3, on=[\"INDID\", \"HHID\"], how=\"left\")  ### Keeping all rows in the trip data\n",
        "\n",
        "## checking the dataframe ##\n",
        "dat5.head()\n",
        "dat5.describe()\n",
        "dat5.shape[0]\n",
        "print(dat5.shape[0])\n",
        "\n",
        "### merging trip data with household level information ##\n",
        "dat5_1new = pd.merge(dat5, dat2, on=\"HHID\", how=\"left\")\n",
        "print(dat5_1new.shape[0])\n",
        "\n"
      ],
      "metadata": {
        "id": "LqSWGdnWkn5h",
        "colab": {
          "base_uri": "https://localhost:8080/"
        },
        "outputId": "4c3bf635-f304-4866-a7ad-2bf28cc16be6"
      },
      "execution_count": null,
      "outputs": [
        {
          "output_type": "stream",
          "name": "stderr",
          "text": [
            "<ipython-input-41-56992f6efc00>:3: SettingWithCopyWarning: \n",
            "A value is trying to be set on a copy of a slice from a DataFrame.\n",
            "Try using .loc[row_indexer,col_indexer] = value instead\n",
            "\n",
            "See the caveats in the documentation: https://pandas.pydata.org/pandas-docs/stable/user_guide/indexing.html#returning-a-view-versus-a-copy\n",
            "  dat4[\"INDID\"] = dat4[\"HHID\"] * 100 + dat4[\"b51q3\"]  #(b51q3 gives the individual serial no. per household)\n"
          ]
        },
        {
          "output_type": "stream",
          "name": "stdout",
          "text": [
            "157326\n",
            "157326\n"
          ]
        }
      ]
    },
    {
      "cell_type": "code",
      "source": [
        "\n",
        "merged6_1=pd.read_csv('/content/block_6.1.csv')\n",
        "merged6_1[\"TripID\"] = merged6_1['HHID']*100 + merged6_1['b61q1']\n",
        "dat5_1new[\"TripID\"] = dat5_1new['HHID']*100 + dat5_1new['b51q1']\n",
        "data365overnt = pd.merge(dat5_1new, merged6_1, on=[\"TripID\", \"HHID\"], how=\"left\")\n",
        "\n",
        "## checking the dataframe ##\n",
        "data365overnt.head()\n",
        "data365overnt.describe()\n",
        "print(data365overnt.shape[0])"
      ],
      "metadata": {
        "colab": {
          "base_uri": "https://localhost:8080/"
        },
        "id": "J_NCL0MDonqv",
        "outputId": "f588bd93-dca2-4d33-845d-c47497b5ae5e"
      },
      "execution_count": null,
      "outputs": [
        {
          "output_type": "stream",
          "name": "stderr",
          "text": [
            "<ipython-input-34-65308e9f1ee5>:1: DtypeWarning: Columns (14) have mixed types. Specify dtype option on import or set low_memory=False.\n",
            "  merged6_1=pd.read_csv('/content/block_6.1.csv')\n"
          ]
        },
        {
          "output_type": "stream",
          "name": "stdout",
          "text": [
            "157326\n"
          ]
        }
      ]
    },
    {
      "cell_type": "code",
      "source": [
        "data365overnt.to_csv('data365overnt.csv', index=False)\n",
        "from google.colab import files\n",
        "files.download('data365overnt.csv')"
      ],
      "metadata": {
        "colab": {
          "base_uri": "https://localhost:8080/",
          "height": 17
        },
        "id": "zXwf17D1qaMA",
        "outputId": "944138ba-a2d7-45ca-eb3f-809da1faa502"
      },
      "execution_count": null,
      "outputs": [
        {
          "output_type": "display_data",
          "data": {
            "text/plain": [
              "<IPython.core.display.Javascript object>"
            ],
            "application/javascript": [
              "\n",
              "    async function download(id, filename, size) {\n",
              "      if (!google.colab.kernel.accessAllowed) {\n",
              "        return;\n",
              "      }\n",
              "      const div = document.createElement('div');\n",
              "      const label = document.createElement('label');\n",
              "      label.textContent = `Downloading \"${filename}\": `;\n",
              "      div.appendChild(label);\n",
              "      const progress = document.createElement('progress');\n",
              "      progress.max = size;\n",
              "      div.appendChild(progress);\n",
              "      document.body.appendChild(div);\n",
              "\n",
              "      const buffers = [];\n",
              "      let downloaded = 0;\n",
              "\n",
              "      const channel = await google.colab.kernel.comms.open(id);\n",
              "      // Send a message to notify the kernel that we're ready.\n",
              "      channel.send({})\n",
              "\n",
              "      for await (const message of channel.messages) {\n",
              "        // Send a message to notify the kernel that we're ready.\n",
              "        channel.send({})\n",
              "        if (message.buffers) {\n",
              "          for (const buffer of message.buffers) {\n",
              "            buffers.push(buffer);\n",
              "            downloaded += buffer.byteLength;\n",
              "            progress.value = downloaded;\n",
              "          }\n",
              "        }\n",
              "      }\n",
              "      const blob = new Blob(buffers, {type: 'application/binary'});\n",
              "      const a = document.createElement('a');\n",
              "      a.href = window.URL.createObjectURL(blob);\n",
              "      a.download = filename;\n",
              "      div.appendChild(a);\n",
              "      a.click();\n",
              "      div.remove();\n",
              "    }\n",
              "  "
            ]
          },
          "metadata": {}
        },
        {
          "output_type": "display_data",
          "data": {
            "text/plain": [
              "<IPython.core.display.Javascript object>"
            ],
            "application/javascript": [
              "download(\"download_1f27ac21-7ea4-4cd4-83ed-e3437c1d191e\", \"data365overnt.csv\", 22208858)"
            ]
          },
          "metadata": {}
        }
      ]
    },
    {
      "cell_type": "code",
      "source": [
        "## Block 5.2 ##\n",
        "dat6 = pd.read_csv(\"/content/Block 5.2 - Copy.csv\")\n",
        "### checking the file ##\n",
        "dat6.head()\n",
        "dat6.describe()\n",
        "print(dat6.shape[0])\n",
        "dat6.rename(columns={\"Unnamed: 0\": \"HHID\"}, inplace=True)\n",
        "len(dat6[\"HHID\"].unique())"
      ],
      "metadata": {
        "colab": {
          "base_uri": "https://localhost:8080/"
        },
        "id": "Tfp-h3ri0RQb",
        "outputId": "4d6da289-ac2b-40f6-e3e1-0f2bfe76f9b7"
      },
      "execution_count": null,
      "outputs": [
        {
          "output_type": "stream",
          "name": "stdout",
          "text": [
            "189670\n"
          ]
        },
        {
          "output_type": "execute_result",
          "data": {
            "text/plain": [
              "56821"
            ]
          },
          "metadata": {},
          "execution_count": 45
        }
      ]
    },
    {
      "cell_type": "code",
      "source": [
        "# Delete rows with value 99 in a specific column\n",
        "column_name = 'b52q1'\n",
        "dat6 = dat6[dat6[column_name] != 99]"
      ],
      "metadata": {
        "id": "ounUzz_I0n7a"
      },
      "execution_count": null,
      "outputs": []
    },
    {
      "cell_type": "code",
      "source": [
        "### create unique id for people using their HHID ###\n",
        "\n",
        "dat6[\"INDID\"] = dat6[\"HHID\"] * 100 + dat6[\"b52q3\"]  #(b52q3 gives the individual serial no. per household)\n",
        "\n",
        "### Merge the files based on individual ID and Household id ###\n",
        "\n",
        "## merging overnight trips (block 5.2) with demographic information\n",
        "dat7 = pd.merge(dat6, dat3, on=[\"INDID\", \"HHID\"], how=\"left\")  ### Keeping all rows in the trip data\n",
        "\n",
        "## checking the dataframe ##\n",
        "dat7.head()\n",
        "dat7.describe()\n",
        "dat7.shape[0]\n",
        "print(dat7.shape[0])\n",
        "\n",
        "### merging trip data with household level information ##\n",
        "dat5_2new = pd.merge(dat7, dat2, on=\"HHID\", how=\"left\")\n",
        "print(dat5_2new.shape[0])"
      ],
      "metadata": {
        "colab": {
          "base_uri": "https://localhost:8080/"
        },
        "id": "6Khpc7uZ0ykU",
        "outputId": "10ccca3c-edd3-4a22-f724-939d61b8b062"
      },
      "execution_count": null,
      "outputs": [
        {
          "output_type": "stream",
          "name": "stdout",
          "text": [
            "132849\n",
            "132849\n"
          ]
        }
      ]
    },
    {
      "cell_type": "code",
      "source": [
        "merged6_2=pd.read_csv('/content/merged6_2 copy.csv')\n",
        "merged6_2[\"TripID\"] = merged6_2['HHID']*100 + merged6_2['b62q1']\n",
        "dat5_2new[\"TripID\"] = dat5_2new['HHID']*100 + dat5_2new['b52q1']\n",
        "data30overnt = pd.merge(dat5_2new, merged6_2, on=[\"TripID\", \"HHID\"], how=\"left\")\n",
        "\n",
        "## checking the dataframe ##\n",
        "data30overnt.head()\n",
        "data30overnt.describe()\n",
        "print(data30overnt.shape[0])"
      ],
      "metadata": {
        "colab": {
          "base_uri": "https://localhost:8080/"
        },
        "id": "4jEgu5871lT9",
        "outputId": "9abc9f2c-7104-4c7c-985f-06158038ee03"
      },
      "execution_count": null,
      "outputs": [
        {
          "output_type": "stream",
          "name": "stdout",
          "text": [
            "132849\n"
          ]
        }
      ]
    },
    {
      "cell_type": "code",
      "source": [
        "data30overnt.to_csv('data30overnt.csv', index=False)\n",
        "from google.colab import files\n",
        "files.download('data30overnt.csv')"
      ],
      "metadata": {
        "colab": {
          "base_uri": "https://localhost:8080/",
          "height": 17
        },
        "id": "4FgKZ2ZI2N4O",
        "outputId": "7f1b834a-b061-4028-bc57-8224697f8536"
      },
      "execution_count": null,
      "outputs": [
        {
          "output_type": "display_data",
          "data": {
            "text/plain": [
              "<IPython.core.display.Javascript object>"
            ],
            "application/javascript": [
              "\n",
              "    async function download(id, filename, size) {\n",
              "      if (!google.colab.kernel.accessAllowed) {\n",
              "        return;\n",
              "      }\n",
              "      const div = document.createElement('div');\n",
              "      const label = document.createElement('label');\n",
              "      label.textContent = `Downloading \"${filename}\": `;\n",
              "      div.appendChild(label);\n",
              "      const progress = document.createElement('progress');\n",
              "      progress.max = size;\n",
              "      div.appendChild(progress);\n",
              "      document.body.appendChild(div);\n",
              "\n",
              "      const buffers = [];\n",
              "      let downloaded = 0;\n",
              "\n",
              "      const channel = await google.colab.kernel.comms.open(id);\n",
              "      // Send a message to notify the kernel that we're ready.\n",
              "      channel.send({})\n",
              "\n",
              "      for await (const message of channel.messages) {\n",
              "        // Send a message to notify the kernel that we're ready.\n",
              "        channel.send({})\n",
              "        if (message.buffers) {\n",
              "          for (const buffer of message.buffers) {\n",
              "            buffers.push(buffer);\n",
              "            downloaded += buffer.byteLength;\n",
              "            progress.value = downloaded;\n",
              "          }\n",
              "        }\n",
              "      }\n",
              "      const blob = new Blob(buffers, {type: 'application/binary'});\n",
              "      const a = document.createElement('a');\n",
              "      a.href = window.URL.createObjectURL(blob);\n",
              "      a.download = filename;\n",
              "      div.appendChild(a);\n",
              "      a.click();\n",
              "      div.remove();\n",
              "    }\n",
              "  "
            ]
          },
          "metadata": {}
        },
        {
          "output_type": "display_data",
          "data": {
            "text/plain": [
              "<IPython.core.display.Javascript object>"
            ],
            "application/javascript": [
              "download(\"download_068dd3d9-e9e1-4d49-ad3d-1d482a7f9d68\", \"data30overnt.csv\", 17123454)"
            ]
          },
          "metadata": {}
        }
      ]
    }
  ]
}